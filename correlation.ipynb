{
 "cells": [
  {
   "cell_type": "markdown",
   "id": "c86f9bca",
   "metadata": {},
   "source": [
    "# 1. Load data for practice"
   ]
  },
  {
   "cell_type": "code",
   "execution_count": null,
   "id": "67fe25ba",
   "metadata": {},
   "outputs": [
    {
     "data": {
      "text/html": [
       "<div>\n",
       "<style scoped>\n",
       "    .dataframe tbody tr th:only-of-type {\n",
       "        vertical-align: middle;\n",
       "    }\n",
       "\n",
       "    .dataframe tbody tr th {\n",
       "        vertical-align: top;\n",
       "    }\n",
       "\n",
       "    .dataframe thead th {\n",
       "        text-align: right;\n",
       "    }\n",
       "</style>\n",
       "<table border=\"1\" class=\"dataframe\">\n",
       "  <thead>\n",
       "    <tr style=\"text-align: right;\">\n",
       "      <th></th>\n",
       "      <th>dt</th>\n",
       "      <th>so2</th>\n",
       "      <th>no2</th>\n",
       "      <th>co</th>\n",
       "      <th>o3</th>\n",
       "      <th>pm10</th>\n",
       "      <th>pm2.5</th>\n",
       "    </tr>\n",
       "  </thead>\n",
       "  <tbody>\n",
       "    <tr>\n",
       "      <th>0</th>\n",
       "      <td>2001-01-31</td>\n",
       "      <td>0.004952</td>\n",
       "      <td>0.039303</td>\n",
       "      <td>0.864058</td>\n",
       "      <td>0.005111</td>\n",
       "      <td>103.361923</td>\n",
       "      <td>65.291538</td>\n",
       "    </tr>\n",
       "    <tr>\n",
       "      <th>1</th>\n",
       "      <td>2001-02-28</td>\n",
       "      <td>0.006069</td>\n",
       "      <td>0.048472</td>\n",
       "      <td>0.888093</td>\n",
       "      <td>0.006464</td>\n",
       "      <td>105.924815</td>\n",
       "      <td>66.457037</td>\n",
       "    </tr>\n",
       "    <tr>\n",
       "      <th>2</th>\n",
       "      <td>2001-03-31</td>\n",
       "      <td>0.003205</td>\n",
       "      <td>0.038955</td>\n",
       "      <td>0.684410</td>\n",
       "      <td>0.010901</td>\n",
       "      <td>133.864516</td>\n",
       "      <td>70.439355</td>\n",
       "    </tr>\n",
       "    <tr>\n",
       "      <th>3</th>\n",
       "      <td>2001-04-30</td>\n",
       "      <td>0.005903</td>\n",
       "      <td>0.034180</td>\n",
       "      <td>0.669548</td>\n",
       "      <td>0.009973</td>\n",
       "      <td>112.954444</td>\n",
       "      <td>49.378519</td>\n",
       "    </tr>\n",
       "    <tr>\n",
       "      <th>4</th>\n",
       "      <td>2001-05-31</td>\n",
       "      <td>0.004970</td>\n",
       "      <td>0.034594</td>\n",
       "      <td>0.488658</td>\n",
       "      <td>0.016590</td>\n",
       "      <td>80.453548</td>\n",
       "      <td>45.598710</td>\n",
       "    </tr>\n",
       "  </tbody>\n",
       "</table>\n",
       "</div>"
      ],
      "text/plain": [
       "           dt       so2       no2        co        o3        pm10      pm2.5\n",
       "0  2001-01-31  0.004952  0.039303  0.864058  0.005111  103.361923  65.291538\n",
       "1  2001-02-28  0.006069  0.048472  0.888093  0.006464  105.924815  66.457037\n",
       "2  2001-03-31  0.003205  0.038955  0.684410  0.010901  133.864516  70.439355\n",
       "3  2001-04-30  0.005903  0.034180  0.669548  0.009973  112.954444  49.378519\n",
       "4  2001-05-31  0.004970  0.034594  0.488658  0.016590   80.453548  45.598710"
      ]
     },
     "execution_count": 1,
     "metadata": {},
     "output_type": "execute_result"
    }
   ],
   "source": [
    "import pandas as pd\n",
    "\n",
    "df = pd.read_csv('./air_quality_2001_2021.csv')\n",
    "df.head()"
   ]
  },
  {
   "cell_type": "code",
   "execution_count": 2,
   "id": "97d5decf",
   "metadata": {},
   "outputs": [
    {
     "data": {
      "text/html": [
       "<div>\n",
       "<style scoped>\n",
       "    .dataframe tbody tr th:only-of-type {\n",
       "        vertical-align: middle;\n",
       "    }\n",
       "\n",
       "    .dataframe tbody tr th {\n",
       "        vertical-align: top;\n",
       "    }\n",
       "\n",
       "    .dataframe thead th {\n",
       "        text-align: right;\n",
       "    }\n",
       "</style>\n",
       "<table border=\"1\" class=\"dataframe\">\n",
       "  <thead>\n",
       "    <tr style=\"text-align: right;\">\n",
       "      <th></th>\n",
       "      <th>dt</th>\n",
       "      <th>so2</th>\n",
       "      <th>no2</th>\n",
       "      <th>co</th>\n",
       "      <th>o3</th>\n",
       "      <th>pm10</th>\n",
       "      <th>pm2.5</th>\n",
       "    </tr>\n",
       "  </thead>\n",
       "  <tbody>\n",
       "    <tr>\n",
       "      <th>244</th>\n",
       "      <td>2021-08-31</td>\n",
       "      <td>0.003276</td>\n",
       "      <td>0.017799</td>\n",
       "      <td>0.359432</td>\n",
       "      <td>0.034899</td>\n",
       "      <td>21.065968</td>\n",
       "      <td>13.476581</td>\n",
       "    </tr>\n",
       "    <tr>\n",
       "      <th>245</th>\n",
       "      <td>2021-09-30</td>\n",
       "      <td>0.003080</td>\n",
       "      <td>0.016424</td>\n",
       "      <td>0.314933</td>\n",
       "      <td>0.034246</td>\n",
       "      <td>15.190400</td>\n",
       "      <td>6.110000</td>\n",
       "    </tr>\n",
       "    <tr>\n",
       "      <th>246</th>\n",
       "      <td>2021-10-31</td>\n",
       "      <td>0.003468</td>\n",
       "      <td>0.028234</td>\n",
       "      <td>0.391435</td>\n",
       "      <td>0.022902</td>\n",
       "      <td>28.277968</td>\n",
       "      <td>11.227484</td>\n",
       "    </tr>\n",
       "    <tr>\n",
       "      <th>247</th>\n",
       "      <td>2021-11-30</td>\n",
       "      <td>0.003863</td>\n",
       "      <td>0.037370</td>\n",
       "      <td>0.553652</td>\n",
       "      <td>0.017362</td>\n",
       "      <td>50.418000</td>\n",
       "      <td>24.369760</td>\n",
       "    </tr>\n",
       "    <tr>\n",
       "      <th>248</th>\n",
       "      <td>2021-12-31</td>\n",
       "      <td>0.003159</td>\n",
       "      <td>0.033356</td>\n",
       "      <td>0.541000</td>\n",
       "      <td>0.012912</td>\n",
       "      <td>40.214000</td>\n",
       "      <td>18.268903</td>\n",
       "    </tr>\n",
       "  </tbody>\n",
       "</table>\n",
       "</div>"
      ],
      "text/plain": [
       "             dt       so2       no2        co        o3       pm10      pm2.5\n",
       "244  2021-08-31  0.003276  0.017799  0.359432  0.034899  21.065968  13.476581\n",
       "245  2021-09-30  0.003080  0.016424  0.314933  0.034246  15.190400   6.110000\n",
       "246  2021-10-31  0.003468  0.028234  0.391435  0.022902  28.277968  11.227484\n",
       "247  2021-11-30  0.003863  0.037370  0.553652  0.017362  50.418000  24.369760\n",
       "248  2021-12-31  0.003159  0.033356  0.541000  0.012912  40.214000  18.268903"
      ]
     },
     "execution_count": 2,
     "metadata": {},
     "output_type": "execute_result"
    }
   ],
   "source": [
    "df.tail()"
   ]
  },
  {
   "cell_type": "markdown",
   "id": "27fc4eaa",
   "metadata": {},
   "source": [
    "# 2. Calculate Pearson correlation coefficient"
   ]
  },
  {
   "cell_type": "code",
   "execution_count": 3,
   "id": "8f0ff0ca",
   "metadata": {},
   "outputs": [
    {
     "data": {
      "text/plain": [
       "PearsonRResult(statistic=0.4181897665316444, pvalue=5.828992100579534e-12)"
      ]
     },
     "execution_count": 3,
     "metadata": {},
     "output_type": "execute_result"
    }
   ],
   "source": [
    "from scipy.stats import pearsonr\n",
    "\n",
    "res = pearsonr(df['so2'], df['no2'])\n",
    "res"
   ]
  },
  {
   "cell_type": "markdown",
   "id": "a200dc91",
   "metadata": {},
   "source": [
    "# 3. Calculate Spearman correlation coefficient"
   ]
  },
  {
   "cell_type": "code",
   "execution_count": 4,
   "id": "56b19680",
   "metadata": {},
   "outputs": [
    {
     "data": {
      "text/plain": [
       "SignificanceResult(statistic=0.3954341235911387, pvalue=9.528360532104895e-11)"
      ]
     },
     "execution_count": 4,
     "metadata": {},
     "output_type": "execute_result"
    }
   ],
   "source": [
    "from scipy.stats import spearmanr\n",
    "\n",
    "res = spearmanr(df['so2'], df['no2'])\n",
    "res"
   ]
  },
  {
   "cell_type": "markdown",
   "id": "20a6a18a",
   "metadata": {},
   "source": [
    "# 4. Normality Test"
   ]
  },
  {
   "cell_type": "code",
   "execution_count": 5,
   "id": "f3e6ed74",
   "metadata": {},
   "outputs": [
    {
     "data": {
      "text/plain": [
       "<seaborn.axisgrid.FacetGrid at 0x278638c67d0>"
      ]
     },
     "execution_count": 5,
     "metadata": {},
     "output_type": "execute_result"
    },
    {
     "data": {
      "image/png": "[encoded data removed]",
      "text/plain": [
       "<Figure size 500x500 with 1 Axes>"
      ]
     },
     "metadata": {},
     "output_type": "display_data"
    }
   ],
   "source": [
    "import seaborn as sns\n",
    "\n",
    "sns.displot(df['so2']) "
   ]
  },
  {
   "cell_type": "code",
   "execution_count": 6,
   "id": "90353d81",
   "metadata": {},
   "outputs": [
    {
     "data": {
      "text/plain": [
       "<seaborn.axisgrid.FacetGrid at 0x2786559da10>"
      ]
     },
     "execution_count": 6,
     "metadata": {},
     "output_type": "execute_result"
    },
    {
     "data": {
      "image/png": "[encoded data removed]",
      "text/plain": [
       "<Figure size 500x500 with 1 Axes>"
      ]
     },
     "metadata": {},
     "output_type": "display_data"
    }
   ],
   "source": [
    "sns.displot(df['no2'])"
   ]
  },
  {
   "cell_type": "code",
   "execution_count": 7,
   "id": "9d8d4f04",
   "metadata": {},
   "outputs": [
    {
     "name": "stdout",
     "output_type": "stream",
     "text": [
      "ShapiroResult(statistic=0.9439486861228943, pvalue=3.5986889912464903e-08)\n",
      "NormaltestResult(statistic=45.81888328850488, pvalue=1.1234555923434547e-10)\n",
      "KstestResult(statistic=0.500398942213911, pvalue=3.4707494470501455e-58, statistic_location=0.001, statistic_sign=-1)\n"
     ]
    }
   ],
   "source": [
    "from scipy.stats import shapiro, normaltest, kstest\n",
    "\n",
    "res_s_so2 = shapiro(df['so2'])\n",
    "res_a_so2 = normaltest(df['so2'])\n",
    "res_k_so2 = kstest(df['so2'], 'norm')\n",
    "\n",
    "print(res_s_so2)\n",
    "print(res_a_so2)\n",
    "print(res_k_so2)"
   ]
  },
  {
   "cell_type": "code",
   "execution_count": 8,
   "id": "6cbe62f8",
   "metadata": {},
   "outputs": [
    {
     "name": "stdout",
     "output_type": "stream",
     "text": [
      "ShapiroResult(statistic=0.9960250854492188, pvalue=0.7791805267333984)\n",
      "NormaltestResult(statistic=0.757672795910585, pvalue=0.6846576148898526)\n",
      "KstestResult(statistic=0.5038263528516697, pvalue=4.899221885936048e-59, statistic_location=0.0095913913043478, statistic_sign=-1)\n"
     ]
    }
   ],
   "source": [
    "from scipy.stats import shapiro, normaltest, kstest\n",
    "\n",
    "res_s_no2 = shapiro(df['no2'])\n",
    "res_a_no2 = normaltest(df['no2'])\n",
    "res_k_no2 = kstest(df['no2'], 'norm')\n",
    "\n",
    "print(res_s_no2)\n",
    "print(res_a_no2)\n",
    "print(res_k_no2)"
   ]
  },
  {
   "cell_type": "markdown",
   "id": "55ed349d",
   "metadata": {},
   "source": [
    "# 5. Correlation Map"
   ]
  },
  {
   "cell_type": "code",
   "execution_count": 9,
   "id": "68138688",
   "metadata": {},
   "outputs": [
    {
     "data": {
      "text/html": [
       "<div>\n",
       "<style scoped>\n",
       "    .dataframe tbody tr th:only-of-type {\n",
       "        vertical-align: middle;\n",
       "    }\n",
       "\n",
       "    .dataframe tbody tr th {\n",
       "        vertical-align: top;\n",
       "    }\n",
       "\n",
       "    .dataframe thead th {\n",
       "        text-align: right;\n",
       "    }\n",
       "</style>\n",
       "<table border=\"1\" class=\"dataframe\">\n",
       "  <thead>\n",
       "    <tr style=\"text-align: right;\">\n",
       "      <th></th>\n",
       "      <th>so2</th>\n",
       "      <th>no2</th>\n",
       "      <th>co</th>\n",
       "      <th>o3</th>\n",
       "      <th>pm10</th>\n",
       "      <th>pm2.5</th>\n",
       "    </tr>\n",
       "  </thead>\n",
       "  <tbody>\n",
       "    <tr>\n",
       "      <th>so2</th>\n",
       "      <td>1.000000</td>\n",
       "      <td>0.418190</td>\n",
       "      <td>0.431895</td>\n",
       "      <td>-0.161219</td>\n",
       "      <td>0.334641</td>\n",
       "      <td>0.273395</td>\n",
       "    </tr>\n",
       "    <tr>\n",
       "      <th>no2</th>\n",
       "      <td>0.418190</td>\n",
       "      <td>1.000000</td>\n",
       "      <td>0.624517</td>\n",
       "      <td>-0.396422</td>\n",
       "      <td>0.602266</td>\n",
       "      <td>0.555437</td>\n",
       "    </tr>\n",
       "    <tr>\n",
       "      <th>co</th>\n",
       "      <td>0.431895</td>\n",
       "      <td>0.624517</td>\n",
       "      <td>1.000000</td>\n",
       "      <td>-0.540948</td>\n",
       "      <td>0.603012</td>\n",
       "      <td>0.579708</td>\n",
       "    </tr>\n",
       "    <tr>\n",
       "      <th>o3</th>\n",
       "      <td>-0.161219</td>\n",
       "      <td>-0.396422</td>\n",
       "      <td>-0.540948</td>\n",
       "      <td>1.000000</td>\n",
       "      <td>-0.320287</td>\n",
       "      <td>-0.372818</td>\n",
       "    </tr>\n",
       "    <tr>\n",
       "      <th>pm10</th>\n",
       "      <td>0.334641</td>\n",
       "      <td>0.602266</td>\n",
       "      <td>0.603012</td>\n",
       "      <td>-0.320287</td>\n",
       "      <td>1.000000</td>\n",
       "      <td>0.892582</td>\n",
       "    </tr>\n",
       "    <tr>\n",
       "      <th>pm2.5</th>\n",
       "      <td>0.273395</td>\n",
       "      <td>0.555437</td>\n",
       "      <td>0.579708</td>\n",
       "      <td>-0.372818</td>\n",
       "      <td>0.892582</td>\n",
       "      <td>1.000000</td>\n",
       "    </tr>\n",
       "  </tbody>\n",
       "</table>\n",
       "</div>"
      ],
      "text/plain": [
       "            so2       no2        co        o3      pm10     pm2.5\n",
       "so2    1.000000  0.418190  0.431895 -0.161219  0.334641  0.273395\n",
       "no2    0.418190  1.000000  0.624517 -0.396422  0.602266  0.555437\n",
       "co     0.431895  0.624517  1.000000 -0.540948  0.603012  0.579708\n",
       "o3    -0.161219 -0.396422 -0.540948  1.000000 -0.320287 -0.372818\n",
       "pm10   0.334641  0.602266  0.603012 -0.320287  1.000000  0.892582\n",
       "pm2.5  0.273395  0.555437  0.579708 -0.372818  0.892582  1.000000"
      ]
     },
     "execution_count": 9,
     "metadata": {},
     "output_type": "execute_result"
    }
   ],
   "source": [
    "corr_mat = df.iloc[:,1:].corr()\n",
    "corr_mat"
   ]
  },
  {
   "cell_type": "code",
   "execution_count": 10,
   "id": "ba5f61ed",
   "metadata": {},
   "outputs": [
    {
     "data": {
      "text/html": [
       "<style type=\"text/css\">\n",
       "#T_3bf86_row0_col0, #T_3bf86_row1_col1, #T_3bf86_row2_col2, #T_3bf86_row3_col3, #T_3bf86_row4_col4, #T_3bf86_row5_col5 {\n",
       "  background-color: #b40426;\n",
       "  color: #f1f1f1;\n",
       "}\n",
       "#T_3bf86_row0_col1 {\n",
       "  background-color: #efcebd;\n",
       "  color: #000000;\n",
       "}\n",
       "#T_3bf86_row0_col2 {\n",
       "  background-color: #f5c2aa;\n",
       "  color: #000000;\n",
       "}\n",
       "#T_3bf86_row0_col3 {\n",
       "  background-color: #8caffe;\n",
       "  color: #000000;\n",
       "}\n",
       "#T_3bf86_row0_col4 {\n",
       "  background-color: #dbdcde;\n",
       "  color: #000000;\n",
       "}\n",
       "#T_3bf86_row0_col5 {\n",
       "  background-color: #d5dbe5;\n",
       "  color: #000000;\n",
       "}\n",
       "#T_3bf86_row1_col0 {\n",
       "  background-color: #dcdddd;\n",
       "  color: #000000;\n",
       "}\n",
       "#T_3bf86_row1_col2 {\n",
       "  background-color: #f39778;\n",
       "  color: #000000;\n",
       "}\n",
       "#T_3bf86_row1_col3 {\n",
       "  background-color: #5875e1;\n",
       "  color: #f1f1f1;\n",
       "}\n",
       "#T_3bf86_row1_col4 {\n",
       "  background-color: #f7ad90;\n",
       "  color: #000000;\n",
       "}\n",
       "#T_3bf86_row1_col5 {\n",
       "  background-color: #f7b497;\n",
       "  color: #000000;\n",
       "}\n",
       "#T_3bf86_row2_col0 {\n",
       "  background-color: #dfdbd9;\n",
       "  color: #000000;\n",
       "}\n",
       "#T_3bf86_row2_col1 {\n",
       "  background-color: #f5a081;\n",
       "  color: #000000;\n",
       "}\n",
       "#T_3bf86_row2_col3, #T_3bf86_row3_col0, #T_3bf86_row3_col1, #T_3bf86_row3_col2, #T_3bf86_row3_col4, #T_3bf86_row3_col5 {\n",
       "  background-color: #3b4cc0;\n",
       "  color: #f1f1f1;\n",
       "}\n",
       "#T_3bf86_row2_col4 {\n",
       "  background-color: #f7ac8e;\n",
       "  color: #000000;\n",
       "}\n",
       "#T_3bf86_row2_col5 {\n",
       "  background-color: #f7af91;\n",
       "  color: #000000;\n",
       "}\n",
       "#T_3bf86_row4_col0 {\n",
       "  background-color: #c9d7f0;\n",
       "  color: #000000;\n",
       "}\n",
       "#T_3bf86_row4_col1 {\n",
       "  background-color: #f7a688;\n",
       "  color: #000000;\n",
       "}\n",
       "#T_3bf86_row4_col2 {\n",
       "  background-color: #f59c7d;\n",
       "  color: #000000;\n",
       "}\n",
       "#T_3bf86_row4_col3 {\n",
       "  background-color: #6788ee;\n",
       "  color: #f1f1f1;\n",
       "}\n",
       "#T_3bf86_row4_col5, #T_3bf86_row5_col4 {\n",
       "  background-color: #d0473d;\n",
       "  color: #f1f1f1;\n",
       "}\n",
       "#T_3bf86_row5_col0 {\n",
       "  background-color: #b7cff9;\n",
       "  color: #000000;\n",
       "}\n",
       "#T_3bf86_row5_col1 {\n",
       "  background-color: #f7b396;\n",
       "  color: #000000;\n",
       "}\n",
       "#T_3bf86_row5_col2 {\n",
       "  background-color: #f6a283;\n",
       "  color: #000000;\n",
       "}\n",
       "#T_3bf86_row5_col3 {\n",
       "  background-color: #5b7ae5;\n",
       "  color: #f1f1f1;\n",
       "}\n",
       "</style>\n",
       "<table id=\"T_3bf86\">\n",
       "  <thead>\n",
       "    <tr>\n",
       "      <th class=\"blank level0\" >&nbsp;</th>\n",
       "      <th id=\"T_3bf86_level0_col0\" class=\"col_heading level0 col0\" >so2</th>\n",
       "      <th id=\"T_3bf86_level0_col1\" class=\"col_heading level0 col1\" >no2</th>\n",
       "      <th id=\"T_3bf86_level0_col2\" class=\"col_heading level0 col2\" >co</th>\n",
       "      <th id=\"T_3bf86_level0_col3\" class=\"col_heading level0 col3\" >o3</th>\n",
       "      <th id=\"T_3bf86_level0_col4\" class=\"col_heading level0 col4\" >pm10</th>\n",
       "      <th id=\"T_3bf86_level0_col5\" class=\"col_heading level0 col5\" >pm2.5</th>\n",
       "    </tr>\n",
       "  </thead>\n",
       "  <tbody>\n",
       "    <tr>\n",
       "      <th id=\"T_3bf86_level0_row0\" class=\"row_heading level0 row0\" >so2</th>\n",
       "      <td id=\"T_3bf86_row0_col0\" class=\"data row0 col0\" >1.000000</td>\n",
       "      <td id=\"T_3bf86_row0_col1\" class=\"data row0 col1\" >0.418190</td>\n",
       "      <td id=\"T_3bf86_row0_col2\" class=\"data row0 col2\" >0.431895</td>\n",
       "      <td id=\"T_3bf86_row0_col3\" class=\"data row0 col3\" >-0.161219</td>\n",
       "      <td id=\"T_3bf86_row0_col4\" class=\"data row0 col4\" >0.334641</td>\n",
       "      <td id=\"T_3bf86_row0_col5\" class=\"data row0 col5\" >0.273395</td>\n",
       "    </tr>\n",
       "    <tr>\n",
       "      <th id=\"T_3bf86_level0_row1\" class=\"row_heading level0 row1\" >no2</th>\n",
       "      <td id=\"T_3bf86_row1_col0\" class=\"data row1 col0\" >0.418190</td>\n",
       "      <td id=\"T_3bf86_row1_col1\" class=\"data row1 col1\" >1.000000</td>\n",
       "      <td id=\"T_3bf86_row1_col2\" class=\"data row1 col2\" >0.624517</td>\n",
       "      <td id=\"T_3bf86_row1_col3\" class=\"data row1 col3\" >-0.396422</td>\n",
       "      <td id=\"T_3bf86_row1_col4\" class=\"data row1 col4\" >0.602266</td>\n",
       "      <td id=\"T_3bf86_row1_col5\" class=\"data row1 col5\" >0.555437</td>\n",
       "    </tr>\n",
       "    <tr>\n",
       "      <th id=\"T_3bf86_level0_row2\" class=\"row_heading level0 row2\" >co</th>\n",
       "      <td id=\"T_3bf86_row2_col0\" class=\"data row2 col0\" >0.431895</td>\n",
       "      <td id=\"T_3bf86_row2_col1\" class=\"data row2 col1\" >0.624517</td>\n",
       "      <td id=\"T_3bf86_row2_col2\" class=\"data row2 col2\" >1.000000</td>\n",
       "      <td id=\"T_3bf86_row2_col3\" class=\"data row2 col3\" >-0.540948</td>\n",
       "      <td id=\"T_3bf86_row2_col4\" class=\"data row2 col4\" >0.603012</td>\n",
       "      <td id=\"T_3bf86_row2_col5\" class=\"data row2 col5\" >0.579708</td>\n",
       "    </tr>\n",
       "    <tr>\n",
       "      <th id=\"T_3bf86_level0_row3\" class=\"row_heading level0 row3\" >o3</th>\n",
       "      <td id=\"T_3bf86_row3_col0\" class=\"data row3 col0\" >-0.161219</td>\n",
       "      <td id=\"T_3bf86_row3_col1\" class=\"data row3 col1\" >-0.396422</td>\n",
       "      <td id=\"T_3bf86_row3_col2\" class=\"data row3 col2\" >-0.540948</td>\n",
       "      <td id=\"T_3bf86_row3_col3\" class=\"data row3 col3\" >1.000000</td>\n",
       "      <td id=\"T_3bf86_row3_col4\" class=\"data row3 col4\" >-0.320287</td>\n",
       "      <td id=\"T_3bf86_row3_col5\" class=\"data row3 col5\" >-0.372818</td>\n",
       "    </tr>\n",
       "    <tr>\n",
       "      <th id=\"T_3bf86_level0_row4\" class=\"row_heading level0 row4\" >pm10</th>\n",
       "      <td id=\"T_3bf86_row4_col0\" class=\"data row4 col0\" >0.334641</td>\n",
       "      <td id=\"T_3bf86_row4_col1\" class=\"data row4 col1\" >0.602266</td>\n",
       "      <td id=\"T_3bf86_row4_col2\" class=\"data row4 col2\" >0.603012</td>\n",
       "      <td id=\"T_3bf86_row4_col3\" class=\"data row4 col3\" >-0.320287</td>\n",
       "      <td id=\"T_3bf86_row4_col4\" class=\"data row4 col4\" >1.000000</td>\n",
       "      <td id=\"T_3bf86_row4_col5\" class=\"data row4 col5\" >0.892582</td>\n",
       "    </tr>\n",
       "    <tr>\n",
       "      <th id=\"T_3bf86_level0_row5\" class=\"row_heading level0 row5\" >pm2.5</th>\n",
       "      <td id=\"T_3bf86_row5_col0\" class=\"data row5 col0\" >0.273395</td>\n",
       "      <td id=\"T_3bf86_row5_col1\" class=\"data row5 col1\" >0.555437</td>\n",
       "      <td id=\"T_3bf86_row5_col2\" class=\"data row5 col2\" >0.579708</td>\n",
       "      <td id=\"T_3bf86_row5_col3\" class=\"data row5 col3\" >-0.372818</td>\n",
       "      <td id=\"T_3bf86_row5_col4\" class=\"data row5 col4\" >0.892582</td>\n",
       "      <td id=\"T_3bf86_row5_col5\" class=\"data row5 col5\" >1.000000</td>\n",
       "    </tr>\n",
       "  </tbody>\n",
       "</table>\n"
      ],
      "text/plain": [
       "<pandas.io.formats.style.Styler at 0x2786410af10>"
      ]
     },
     "execution_count": 10,
     "metadata": {},
     "output_type": "execute_result"
    }
   ],
   "source": [
    "corr_mat.style.background_gradient(cmap='coolwarm')"
   ]
  },
  {
   "cell_type": "code",
   "execution_count": 11,
   "id": "31eadd45",
   "metadata": {},
   "outputs": [
    {
     "data": {
      "image/png": "[encoded data removed]",
      "text/plain": [
       "<Figure size 600x400 with 2 Axes>"
      ]
     },
     "metadata": {},
     "output_type": "display_data"
    }
   ],
   "source": [
    "import matplotlib.pyplot as plt\n",
    "import seaborn as sns\n",
    "\n",
    "plt.figure(figsize=(6,4))\n",
    "sns.heatmap(corr_mat, cmap=\"coolwarm\",annot=True, vmax=1, vmin=-1)\n",
    "plt.title('Correlation Matrix', fontsize=14)\n",
    "plt.show()"
   ]
  },
  {
   "cell_type": "code",
   "execution_count": 12,
   "id": "11c5d424",
   "metadata": {},
   "outputs": [
    {
     "data": {
      "text/plain": [
       "<Figure size 1200x1000 with 0 Axes>"
      ]
     },
     "metadata": {},
     "output_type": "display_data"
    },
    {
     "data": {
      "image/png": "[encoded data removed]",
      "text/plain": [
       "<Figure size 480x480 with 2 Axes>"
      ]
     },
     "metadata": {},
     "output_type": "display_data"
    }
   ],
   "source": [
    "import matplotlib.pyplot as plt\n",
    "\n",
    "f = plt.figure(figsize=(12, 10))\n",
    "plt.matshow(df.iloc[:,1:].corr())\n",
    "\n",
    "plt.xticks(range(df.select_dtypes(['number']).shape[1]), df.select_dtypes(['number']).columns, fontsize=14, rotation=45)\n",
    "plt.yticks(range(df.select_dtypes(['number']).shape[1]), df.select_dtypes(['number']).columns, fontsize=14)\n",
    "\n",
    "cb = plt.colorbar()\n",
    "cb.ax.tick_params(labelsize=14)\n",
    "plt.title('Correlation Matrix', fontsize=16)\n",
    "\n",
    "plt.show()"
   ]
  },
  {
   "cell_type": "code",
   "execution_count": null,
   "id": "bc949167",
   "metadata": {},
   "outputs": [],
   "source": []
  }
 ],
 "metadata": {
  "kernelspec": {
   "display_name": "ai_study",
   "language": "python",
   "name": "python3"
  },
  "language_info": {
   "codemirror_mode": {
    "name": "ipython",
    "version": 3
   },
   "file_extension": ".py",
   "mimetype": "text/x-python",
   "name": "python",
   "nbconvert_exporter": "python",
   "pygments_lexer": "ipython3",
   "version": "3.11.4"
  }
 },
 "nbformat": 4,
 "nbformat_minor": 5
}
